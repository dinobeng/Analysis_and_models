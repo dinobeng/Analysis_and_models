{
 "cells": [
  {
   "cell_type": "markdown",
   "id": "a1a8f604",
   "metadata": {},
   "source": [
    "### 1. Import libraries"
   ]
  },
  {
   "cell_type": "code",
   "execution_count": 1,
   "id": "6cddfed7",
   "metadata": {},
   "outputs": [],
   "source": [
    "import pandas as pd\n",
    "import numpy as np\n",
    "import matplotlib.pyplot as plt\n",
    "import seaborn as sns\n",
    "%matplotlib inline"
   ]
  },
  {
   "cell_type": "code",
   "execution_count": 2,
   "id": "75726d69",
   "metadata": {},
   "outputs": [],
   "source": [
    "from warnings import filterwarnings\n",
    "filterwarnings('ignore')"
   ]
  },
  {
   "cell_type": "code",
   "execution_count": null,
   "id": "64c95304",
   "metadata": {},
   "outputs": [],
   "source": [
    "#additional visuzalization libraries\n",
    "\n",
    "import cufflinks as cf\n",
    "import plotly.offline\n",
    "cf.go_offline()\n",
    "cf.set_config_file(offline=False, world_readable=True)\n",
    "\n",
    "\n",
    "import plotly \n",
    "import plotly.express as px\n",
    "import plotly.graph_objs as go\n",
    "import plotly.offline as py\n",
    "from plotly.offline import iplot\n",
    "from plotly.subplots import make_subplots\n",
    "import plotly.figure_factory as ff\n",
    "\n",
    "import missingno as msno"
   ]
  },
  {
   "cell_type": "markdown",
   "id": "0478e059",
   "metadata": {},
   "source": [
    "### 2.  Import data"
   ]
  },
  {
   "cell_type": "code",
   "execution_count": null,
   "id": "77df2f2e",
   "metadata": {},
   "outputs": [],
   "source": [
    "data = pd.read_csv('Ecommerce Customers')"
   ]
  },
  {
   "cell_type": "code",
   "execution_count": null,
   "id": "1737868d",
   "metadata": {},
   "outputs": [],
   "source": [
    "data.head(10)"
   ]
  },
  {
   "cell_type": "markdown",
   "id": "b1a1a562",
   "metadata": {},
   "source": [
    "Avg. Session Length: Average session of in-store style advice sessions.\n",
    "\n",
    "Time on App: Average time spent on App in minutes\n",
    "\n",
    "Time on Website: Average time spent on Website in minutes\n",
    "\n",
    "Length of Membership: How many years the customer has been a member.\n"
   ]
  },
  {
   "cell_type": "markdown",
   "id": "2fd78b17",
   "metadata": {},
   "source": [
    "### 3. EDA"
   ]
  },
  {
   "cell_type": "code",
   "execution_count": null,
   "id": "15c1cd3b",
   "metadata": {},
   "outputs": [],
   "source": [
    "data.info()"
   ]
  },
  {
   "cell_type": "code",
   "execution_count": null,
   "id": "8acb6107",
   "metadata": {},
   "outputs": [],
   "source": [
    "data.describe().T"
   ]
  },
  {
   "cell_type": "code",
   "execution_count": null,
   "id": "32591d6d",
   "metadata": {},
   "outputs": [],
   "source": [
    "sns.set(rc={'figure.figsize':(8,6)})\n",
    "sns.set_style('whitegrid')"
   ]
  },
  {
   "cell_type": "code",
   "execution_count": null,
   "id": "39b58930",
   "metadata": {},
   "outputs": [],
   "source": [
    "sns.heatmap(data.corr(), annot = True, cmap = 'Blues')"
   ]
  },
  {
   "cell_type": "code",
   "execution_count": null,
   "id": "038992f2",
   "metadata": {},
   "outputs": [],
   "source": [
    "sns.pairplot(data = data, diag_kind = 'kde')"
   ]
  },
  {
   "cell_type": "code",
   "execution_count": null,
   "id": "1a5ddc27",
   "metadata": {},
   "outputs": [],
   "source": [
    "sns.set_palette('Set2')"
   ]
  },
  {
   "cell_type": "code",
   "execution_count": null,
   "id": "fdf6444e",
   "metadata": {},
   "outputs": [],
   "source": [
    "sns.regplot(data = data, x = 'Length of Membership', y = 'Yearly Amount Spent')"
   ]
  },
  {
   "cell_type": "markdown",
   "id": "6f8aa792",
   "metadata": {},
   "source": [
    "### 4. Model "
   ]
  },
  {
   "cell_type": "code",
   "execution_count": null,
   "id": "db311a45",
   "metadata": {},
   "outputs": [],
   "source": [
    "from sklearn.model_selection import train_test_split, cross_val_score, cross_val_predict\n",
    "from sklearn.model_selection import ShuffleSplit, GridSearchCV\n",
    "from sklearn.metrics import mean_squared_error, r2_score\n",
    "from sklearn.tree import DecisionTreeRegressor\n",
    "from sklearn.neighbors import KNeighborsRegressor\n",
    "from sklearn.ensemble import BaggingRegressor\n",
    "from sklearn.linear_model import LinearRegression\n",
    "from sklearn.cross_decomposition import PLSRegression\n",
    "from sklearn.linear_model import Ridge\n",
    "from sklearn.linear_model import Lasso\n",
    "from sklearn.linear_model import ElasticNet\n",
    "from sklearn.ensemble import RandomForestRegressor\n",
    "from sklearn.ensemble import GradientBoostingRegressor\n",
    "from xgboost import XGBRegressor\n",
    "from lightgbm import LGBMRegressor\n",
    "from catboost import CatBoostRegressor"
   ]
  },
  {
   "cell_type": "code",
   "execution_count": null,
   "id": "b9667b06",
   "metadata": {},
   "outputs": [],
   "source": [
    "model_data = data[['Avg. Session Length', 'Time on App',\n",
    "       'Time on Website', 'Length of Membership', 'Yearly Amount Spent']]\n",
    "\n",
    "X = model_data.drop('Yearly Amount Spent', axis = 1)\n",
    "y = model_data['Yearly Amount Spent']"
   ]
  },
  {
   "cell_type": "code",
   "execution_count": null,
   "id": "292da733",
   "metadata": {},
   "outputs": [],
   "source": [
    "X_train, X_test, y_train, y_test = train_test_split(X, y, test_size=0.3, random_state=42)"
   ]
  },
  {
   "cell_type": "code",
   "execution_count": null,
   "id": "25a042ac",
   "metadata": {},
   "outputs": [],
   "source": [
    "lm = LinearRegression().fit(X_train, y_train)\n",
    "pls = PLSRegression().fit(X_train, y_train)\n",
    "ridge = Ridge().fit(X_train, y_train)\n",
    "lasso = Lasso().fit(X_train, y_train)\n",
    "elasticnet = ElasticNet().fit(X_train, y_train)\n",
    "knnr = KNeighborsRegressor().fit(X_train, y_train)\n",
    "cartr = DecisionTreeRegressor(random_state=42).fit(X_train, y_train)\n",
    "baggr = BaggingRegressor(random_state=42,bootstrap_features=True,verbose=False).fit(X_train, y_train)\n",
    "rfr = RandomForestRegressor(random_state=42,verbose=False).fit(X_train, y_train)\n",
    "gbmr = GradientBoostingRegressor(verbose=False).fit(X_train, y_train)\n",
    "xgbr = XGBRegressor().fit(X_train, y_train)\n",
    "lgbmr = LGBMRegressor().fit(X_train, y_train)\n",
    "catbr = CatBoostRegressor(verbose=False).fit(X_train, y_train)"
   ]
  },
  {
   "cell_type": "code",
   "execution_count": null,
   "id": "3ad67047",
   "metadata": {},
   "outputs": [],
   "source": [
    "models = [lm,pls,ridge,lasso,elasticnet,knnr,\n",
    "         cartr,baggr,rfr,gbmr,xgbr,lgbmr,catbr]"
   ]
  },
  {
   "cell_type": "code",
   "execution_count": null,
   "id": "94204aa3",
   "metadata": {},
   "outputs": [],
   "source": [
    "sc = pd.DataFrame(columns=[\"MODELS\",\"r2\"])\n",
    "for model in models:\n",
    "    name = model.__class__.__name__\n",
    "    r2 = cross_val_score(model,X_test,y_test,cv=10,scoring=\"r2\").mean()\n",
    "    result = pd.DataFrame([[name,r2*100]],columns=[\"MODELS\",\"r2\"])\n",
    "    sc = sc.append(result)\n",
    "    sc = sc.sort_values('r2', ascending = False)\n",
    "    \n",
    "figure = plt.figure(figsize=(20,8))   \n",
    "sns.barplot(x=\"r2\",y=\"MODELS\",data=sc, palette = 'viridis')\n",
    "plt.xlabel(\"r2\")\n",
    "plt.ylabel(\"MODELS\")\n",
    "plt.xlim(0,100)\n",
    "plt.title(\"MODEL ACCURACY COMPARISON\")\n",
    "plt.show()\n",
    "\n",
    "display(sc)\n"
   ]
  },
  {
   "cell_type": "code",
   "execution_count": null,
   "id": "7990d6b6",
   "metadata": {},
   "outputs": [],
   "source": [
    "linear = LinearRegression()"
   ]
  },
  {
   "cell_type": "code",
   "execution_count": null,
   "id": "88fb04cc",
   "metadata": {},
   "outputs": [],
   "source": [
    "linear.fit(X_train, y_train)"
   ]
  },
  {
   "cell_type": "code",
   "execution_count": null,
   "id": "c7415879",
   "metadata": {},
   "outputs": [],
   "source": [
    "y_pred = linear.predict(X_test)\n",
    "y_train_predict = linear.predict(X_train)\n",
    "rmse = (np.sqrt(mean_squared_error(y_train, y_train_predict)))\n",
    "r2 = r2_score(y_train, y_train_predict)\n",
    "\n",
    "print(\"The model performance for training set\")\n",
    "print(\"--------------------------------------\")\n",
    "print('R2 score is {}'.format(r2))\n",
    "print('RMSE is {}'.format(rmse))\n",
    "print(\"\\n\")\n",
    "\n",
    "# model evaluation for testing set\n",
    "y_test_predict = linear.predict(X_test)\n",
    "rmse = (np.sqrt(mean_squared_error(y_test, y_pred)))\n",
    "r2 = r2_score(y_test, y_pred)\n",
    "\n",
    "print(\"The model performance for testing set\")\n",
    "print(\"--------------------------------------\")\n",
    "print('R2 score is {}'.format(r2))\n",
    "print('RMSE is {}'.format(rmse))\n"
   ]
  },
  {
   "cell_type": "code",
   "execution_count": null,
   "id": "7bf5fd22",
   "metadata": {},
   "outputs": [],
   "source": [
    "linear.intercept_"
   ]
  },
  {
   "cell_type": "code",
   "execution_count": null,
   "id": "999780bd",
   "metadata": {},
   "outputs": [],
   "source": [
    "temp = pd.DataFrame({'Actual':y_test, 'Predict':y_pred})\n",
    "temp.head(20)"
   ]
  },
  {
   "cell_type": "code",
   "execution_count": null,
   "id": "fd458539",
   "metadata": {},
   "outputs": [],
   "source": [
    "sns.scatterplot(data = temp, x = 'Actual', y = 'Predict', palette=['green','blue'])"
   ]
  },
  {
   "cell_type": "code",
   "execution_count": null,
   "id": "184601a3",
   "metadata": {},
   "outputs": [],
   "source": [
    "\n",
    "coeff = pd.DataFrame({'Features' : X.columns, 'Coefficient' : linear.coef_})\n",
    "coeff = coeff.sort_values('Coefficient', ascending = False)\n",
    "coeff"
   ]
  },
  {
   "cell_type": "code",
   "execution_count": null,
   "id": "8da7dffd",
   "metadata": {},
   "outputs": [],
   "source": [
    "from sklearn import metrics\n",
    "\n",
    "print('MAE:', metrics.mean_absolute_error(y_test, y_pred))\n",
    "print('MSE:', metrics.mean_squared_error(y_test, y_pred))\n",
    "print('RMSE:', np.sqrt(metrics.mean_squared_error(y_test, y_pred)))"
   ]
  },
  {
   "cell_type": "code",
   "execution_count": null,
   "id": "058f5c1d",
   "metadata": {},
   "outputs": [],
   "source": []
  },
  {
   "cell_type": "code",
   "execution_count": null,
   "id": "6913a39b",
   "metadata": {},
   "outputs": [],
   "source": []
  }
 ],
 "metadata": {
  "kernelspec": {
   "display_name": "Python 3.8.8 64-bit ('base': conda)",
   "language": "python",
   "name": "python388jvsc74a57bd0ad426cdf5945b1c509c6e32d728fb3b866c8e6b07c8b9f59f3033e12c7956401"
  },
  "language_info": {
   "codemirror_mode": {
    "name": "ipython",
    "version": 3
   },
   "file_extension": ".py",
   "mimetype": "text/x-python",
   "name": "python",
   "nbconvert_exporter": "python",
   "pygments_lexer": "ipython3",
   "version": "3.8.8"
  }
 },
 "nbformat": 4,
 "nbformat_minor": 5
}
